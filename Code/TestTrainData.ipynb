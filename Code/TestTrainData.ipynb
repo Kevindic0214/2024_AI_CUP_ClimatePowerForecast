{
 "cells": [
  {
   "cell_type": "code",
   "execution_count": 1,
   "metadata": {},
   "outputs": [],
   "source": [
    "import pandas as pd\n",
    "df = pd.read_csv('..//Data//MergedSorted//L1_Merged_Sorted.csv')"
   ]
  },
  {
   "cell_type": "code",
   "execution_count": 2,
   "metadata": {},
   "outputs": [
    {
     "data": {
      "text/plain": [
       "['DateTime',\n",
       " 'SeqNumber',\n",
       " 'Device_ID',\n",
       " 'Year',\n",
       " 'Month',\n",
       " 'Day',\n",
       " 'Hour',\n",
       " 'Minute',\n",
       " 'Avg_WindSpeed(m/s)',\n",
       " 'Avg_Pressure(hpa)',\n",
       " 'Avg_Temperature(°C)',\n",
       " 'Avg_Humidity(%)',\n",
       " 'Avg_Sunlight(Lux)',\n",
       " 'Avg_Power(mW)',\n",
       " 'Avg_Diff_WindSpeed(m/s)',\n",
       " 'Avg_Diff_Pressure(hpa)',\n",
       " 'Avg_Diff_Temperature(°C)',\n",
       " 'Avg_Diff_Humidity(%)',\n",
       " 'Avg_Diff_Sunlight(Lux)',\n",
       " 'Avg_Diff_Power(mW)',\n",
       " 'Avg_Lag_1_WindSpeed(m/s)',\n",
       " 'Avg_Lag_2_WindSpeed(m/s)',\n",
       " 'Avg_Lag_1_Pressure(hpa)',\n",
       " 'Avg_Lag_2_Pressure(hpa)',\n",
       " 'Avg_Lag_1_Temperature(°C)',\n",
       " 'Avg_Lag_2_Temperature(°C)',\n",
       " 'Avg_Lag_1_Humidity(%)',\n",
       " 'Avg_Lag_2_Humidity(%)',\n",
       " 'Avg_Lag_1_Sunlight(Lux)',\n",
       " 'Avg_Lag_2_Sunlight(Lux)',\n",
       " 'Avg_Lag_1_Power(mW)',\n",
       " 'Avg_Lag_2_Power(mW)',\n",
       " 'Avg_Sin_Hour',\n",
       " 'Avg_Cos_Hour',\n",
       " 'Avg_Sin_Minute',\n",
       " 'Avg_Cos_Minute',\n",
       " 'Max_WindSpeed(m/s)',\n",
       " 'Max_Pressure(hpa)',\n",
       " 'Max_Temperature(°C)',\n",
       " 'Max_Humidity(%)',\n",
       " 'Max_Sunlight(Lux)',\n",
       " 'Max_Power(mW)',\n",
       " 'Max_Diff_WindSpeed(m/s)',\n",
       " 'Max_Diff_Pressure(hpa)',\n",
       " 'Max_Diff_Temperature(°C)',\n",
       " 'Max_Diff_Humidity(%)',\n",
       " 'Max_Diff_Sunlight(Lux)',\n",
       " 'Max_Diff_Power(mW)',\n",
       " 'Max_Lag_1_WindSpeed(m/s)',\n",
       " 'Max_Lag_2_WindSpeed(m/s)',\n",
       " 'Max_Lag_1_Pressure(hpa)',\n",
       " 'Max_Lag_2_Pressure(hpa)',\n",
       " 'Max_Lag_1_Temperature(°C)',\n",
       " 'Max_Lag_2_Temperature(°C)',\n",
       " 'Max_Lag_1_Humidity(%)',\n",
       " 'Max_Lag_2_Humidity(%)',\n",
       " 'Max_Lag_1_Sunlight(Lux)',\n",
       " 'Max_Lag_2_Sunlight(Lux)',\n",
       " 'Max_Lag_1_Power(mW)',\n",
       " 'Max_Lag_2_Power(mW)',\n",
       " 'Max_Sin_Hour',\n",
       " 'Max_Cos_Hour',\n",
       " 'Max_Sin_Minute',\n",
       " 'Max_Cos_Minute',\n",
       " 'Min_WindSpeed(m/s)',\n",
       " 'Min_Pressure(hpa)',\n",
       " 'Min_Temperature(°C)',\n",
       " 'Min_Humidity(%)',\n",
       " 'Min_Sunlight(Lux)',\n",
       " 'Min_Power(mW)',\n",
       " 'Min_Diff_WindSpeed(m/s)',\n",
       " 'Min_Diff_Pressure(hpa)',\n",
       " 'Min_Diff_Temperature(°C)',\n",
       " 'Min_Diff_Humidity(%)',\n",
       " 'Min_Diff_Sunlight(Lux)',\n",
       " 'Min_Diff_Power(mW)',\n",
       " 'Min_Lag_1_WindSpeed(m/s)',\n",
       " 'Min_Lag_2_WindSpeed(m/s)',\n",
       " 'Min_Lag_1_Pressure(hpa)',\n",
       " 'Min_Lag_2_Pressure(hpa)',\n",
       " 'Min_Lag_1_Temperature(°C)',\n",
       " 'Min_Lag_2_Temperature(°C)',\n",
       " 'Min_Lag_1_Humidity(%)',\n",
       " 'Min_Lag_2_Humidity(%)',\n",
       " 'Min_Lag_1_Sunlight(Lux)',\n",
       " 'Min_Lag_2_Sunlight(Lux)',\n",
       " 'Min_Lag_1_Power(mW)',\n",
       " 'Min_Lag_2_Power(mW)',\n",
       " 'Min_Sin_Hour',\n",
       " 'Min_Cos_Hour',\n",
       " 'Min_Sin_Minute',\n",
       " 'Min_Cos_Minute']"
      ]
     },
     "execution_count": 2,
     "metadata": {},
     "output_type": "execute_result"
    }
   ],
   "source": [
    "df.columns.to_list()"
   ]
  }
 ],
 "metadata": {
  "kernelspec": {
   "display_name": "ai_cup_2024",
   "language": "python",
   "name": "python3"
  },
  "language_info": {
   "codemirror_mode": {
    "name": "ipython",
    "version": 3
   },
   "file_extension": ".py",
   "mimetype": "text/x-python",
   "name": "python",
   "nbconvert_exporter": "python",
   "pygments_lexer": "ipython3",
   "version": "3.9.20"
  }
 },
 "nbformat": 4,
 "nbformat_minor": 2
}
