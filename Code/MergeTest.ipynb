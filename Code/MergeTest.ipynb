{
 "cells": [
  {
   "cell_type": "markdown",
   "metadata": {},
   "source": [
    "預測後的 Power 放入到 測試集 "
   ]
  },
  {
   "cell_type": "code",
   "execution_count": 1,
   "metadata": {},
   "outputs": [
    {
     "data": {
      "text/plain": [
       "['Predicted_L1.csv',\n",
       " 'Predicted_L10.csv',\n",
       " 'Predicted_L11.csv',\n",
       " 'Predicted_L12.csv',\n",
       " 'Predicted_L13.csv',\n",
       " 'Predicted_L14.csv',\n",
       " 'Predicted_L15.csv',\n",
       " 'Predicted_L16.csv',\n",
       " 'Predicted_L17.csv',\n",
       " 'Predicted_L2.csv',\n",
       " 'Predicted_L3.csv',\n",
       " 'Predicted_L4.csv',\n",
       " 'Predicted_L5.csv',\n",
       " 'Predicted_L6.csv',\n",
       " 'Predicted_L7.csv',\n",
       " 'Predicted_L8.csv',\n",
       " 'Predicted_L9.csv']"
      ]
     },
     "execution_count": 1,
     "metadata": {},
     "output_type": "execute_result"
    }
   ],
   "source": [
    "from datetime import datetime, timedelta\n",
    "import numpy as np\n",
    "import pandas as pd\n",
    "import os\n",
    "\n",
    "file_path = '..//Data//PredictedData'\n",
    "files = os.listdir(file_path)\n",
    "files"
   ]
  },
  {
   "cell_type": "code",
   "execution_count": 2,
   "metadata": {},
   "outputs": [],
   "source": [
    "test_df = pd.read_csv('..//Data//TestData//upload(no answer).csv')\n",
    "answer_df = test_df.set_index('序號')\n",
    "for file in files:\n",
    "    pred_df = pd.read_csv(f'{file_path}//{file}')\n",
    "    seq_numbers = pred_df['SeqNumber'].tolist()\n",
    "    pred_df = pred_df.set_index('SeqNumber')\n",
    "    pred_power = pred_df.loc[seq_numbers, 'Avg_Power(mW)'].to_numpy()\n",
    "    answer_df.loc[seq_numbers,'答案'] = pred_power.round(2)"
   ]
  },
  {
   "cell_type": "code",
   "execution_count": 3,
   "metadata": {},
   "outputs": [],
   "source": [
    "answer_df.reset_index().to_csv(f'..//Data//TestData//answer.csv', index=False)"
   ]
  }
 ],
 "metadata": {
  "kernelspec": {
   "display_name": "ai_cup_2024",
   "language": "python",
   "name": "python3"
  },
  "language_info": {
   "codemirror_mode": {
    "name": "ipython",
    "version": 3
   },
   "file_extension": ".py",
   "mimetype": "text/x-python",
   "name": "python",
   "nbconvert_exporter": "python",
   "pygments_lexer": "ipython3",
   "version": "3.9.20"
  }
 },
 "nbformat": 4,
 "nbformat_minor": 2
}
