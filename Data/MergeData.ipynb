{
 "cells": [
  {
   "cell_type": "code",
   "execution_count": 26,
   "metadata": {},
   "outputs": [],
   "source": [
    "import pandas as pd\n",
    "import os\n",
    "\n",
    "directory = '2024_CODiS_data'\n",
    "save_dir = '2024_CODiS_merge'\n",
    "\n",
    "months = os.listdir(path=f'{directory}')\n",
    "\n",
    "for month in months :\n",
    "    \n",
    "    big_df = pd.DataFrame()\n",
    "    csv_files = os.listdir(path=f'{directory}//{month}')\n",
    "\n",
    "    for csv_file in csv_files :\n",
    "        \n",
    "        df = pd.read_csv(f\"{directory}//{month}//{csv_file}\")\n",
    "        \n",
    "        df.columns = df.iloc[0]\n",
    "        df = df.drop(0,axis=0)\n",
    "        \n",
    "        file_name_token = csv_file.split('-')\n",
    "        position_id = file_name_token[0]\n",
    "        obs_year, obs_month, obs_day = file_name_token[1], file_name_token[2], file_name_token[3].strip('.csv')\n",
    "        \n",
    "        len_df = len(df)\n",
    "        df.insert(0, 'Position_ID', [position_id] * len_df)\n",
    "        df.insert(1, 'Year', [obs_year] * len_df)\n",
    "        df.insert(2, 'Month', [obs_month] * len_df)\n",
    "        df.insert(3, 'Day', [obs_day] * len_df)\n",
    "\n",
    "        df = df.rename(columns={'ObsTime' : 'Hour'})\n",
    "        \n",
    "        big_df = pd.concat([big_df, df], ignore_index=True)\n",
    "    big_df.to_csv(f'{save_dir}//{month}_merge.csv',index=False)"
   ]
  }
 ],
 "metadata": {
  "kernelspec": {
   "display_name": "test-env",
   "language": "python",
   "name": "python3"
  },
  "language_info": {
   "codemirror_mode": {
    "name": "ipython",
    "version": 3
   },
   "file_extension": ".py",
   "mimetype": "text/x-python",
   "name": "python",
   "nbconvert_exporter": "python",
   "pygments_lexer": "ipython3",
   "version": "3.8.20"
  }
 },
 "nbformat": 4,
 "nbformat_minor": 2
}
