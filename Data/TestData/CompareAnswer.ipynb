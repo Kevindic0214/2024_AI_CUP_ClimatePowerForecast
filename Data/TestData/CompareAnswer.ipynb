{
 "cells": [
  {
   "cell_type": "code",
   "execution_count": 24,
   "metadata": {},
   "outputs": [],
   "source": [
    "import pandas as pd\n",
    "\n",
    "answer_now = pd.read_csv('answer_5.csv')\n",
    "answer_prev = pd.read_csv('answer_4.csv')"
   ]
  },
  {
   "cell_type": "code",
   "execution_count": 25,
   "metadata": {},
   "outputs": [
    {
     "data": {
      "text/plain": [
       "count    9600.000000\n",
       "mean      451.092997\n",
       "std       479.432668\n",
       "min         0.000000\n",
       "25%        31.927500\n",
       "50%       270.980000\n",
       "75%       782.362500\n",
       "max      1782.460000\n",
       "Name: 答案, dtype: float64"
      ]
     },
     "execution_count": 25,
     "metadata": {},
     "output_type": "execute_result"
    }
   ],
   "source": [
    "abs(answer_now)['答案'].describe()"
   ]
  },
  {
   "cell_type": "code",
   "execution_count": 26,
   "metadata": {},
   "outputs": [
    {
     "data": {
      "text/plain": [
       "count    9600.000000\n",
       "mean      447.848058\n",
       "std       478.208693\n",
       "min         0.000000\n",
       "25%        30.637500\n",
       "50%       267.610000\n",
       "75%       775.880000\n",
       "max      1782.460000\n",
       "Name: 答案, dtype: float64"
      ]
     },
     "execution_count": 26,
     "metadata": {},
     "output_type": "execute_result"
    }
   ],
   "source": [
    "abs(answer_prev)['答案'].describe()"
   ]
  }
 ],
 "metadata": {
  "kernelspec": {
   "display_name": "ai_cup_2024",
   "language": "python",
   "name": "python3"
  },
  "language_info": {
   "codemirror_mode": {
    "name": "ipython",
    "version": 3
   },
   "file_extension": ".py",
   "mimetype": "text/x-python",
   "name": "python",
   "nbconvert_exporter": "python",
   "pygments_lexer": "ipython3",
   "version": "3.9.20"
  }
 },
 "nbformat": 4,
 "nbformat_minor": 2
}
