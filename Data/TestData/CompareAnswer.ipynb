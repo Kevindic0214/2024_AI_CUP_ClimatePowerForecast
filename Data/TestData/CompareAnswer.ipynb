{
 "cells": [
  {
   "cell_type": "code",
   "execution_count": 5,
   "metadata": {},
   "outputs": [],
   "source": [
    "import pandas as pd\n",
    "\n",
    "answer_now = pd.read_csv('answer.csv')\n",
    "answer_prev = pd.read_csv('answer_6.csv')"
   ]
  },
  {
   "cell_type": "code",
   "execution_count": 10,
   "metadata": {},
   "outputs": [
    {
     "data": {
      "text/plain": [
       "count    9600.000000\n",
       "mean      387.905014\n",
       "std       430.048346\n",
       "min         0.000000\n",
       "25%        35.965000\n",
       "50%       210.325000\n",
       "75%       647.875000\n",
       "max      1793.200000\n",
       "Name: 答案, dtype: float64"
      ]
     },
     "execution_count": 10,
     "metadata": {},
     "output_type": "execute_result"
    }
   ],
   "source": [
    "abs(answer_now)['答案'].describe()"
   ]
  },
  {
   "cell_type": "code",
   "execution_count": 12,
   "metadata": {},
   "outputs": [
    {
     "data": {
      "text/plain": [
       "count    9600.000000\n",
       "mean      387.905014\n",
       "std       430.048346\n",
       "min         0.000000\n",
       "25%        35.965000\n",
       "50%       210.325000\n",
       "75%       647.875000\n",
       "max      1793.200000\n",
       "Name: 答案, dtype: float64"
      ]
     },
     "execution_count": 12,
     "metadata": {},
     "output_type": "execute_result"
    }
   ],
   "source": [
    "abs(answer_prev)['答案'].describe()"
   ]
  }
 ],
 "metadata": {
  "kernelspec": {
   "display_name": "ai_cup_2024",
   "language": "python",
   "name": "python3"
  },
  "language_info": {
   "codemirror_mode": {
    "name": "ipython",
    "version": 3
   },
   "file_extension": ".py",
   "mimetype": "text/x-python",
   "name": "python",
   "nbconvert_exporter": "python",
   "pygments_lexer": "ipython3",
   "version": "3.9.20"
  }
 },
 "nbformat": 4,
 "nbformat_minor": 2
}
